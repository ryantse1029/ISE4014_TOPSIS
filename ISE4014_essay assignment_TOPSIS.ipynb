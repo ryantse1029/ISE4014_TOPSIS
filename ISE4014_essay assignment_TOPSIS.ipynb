{
 "cells": [
  {
   "cell_type": "code",
   "execution_count": 20,
   "metadata": {},
   "outputs": [],
   "source": [
    "import pandas as pd \n",
    "import numpy as np "
   ]
  },
  {
   "cell_type": "code",
   "execution_count": 37,
   "metadata": {},
   "outputs": [],
   "source": [
    "##defind the matrix  ( Step 1)\n",
    "mtx=[ [ 250, 16,12,5]\n",
    "    , [200,16, 8, 3]\n",
    "    , [300, 32,16,4]\n",
    "    , [275, 32, 8, 4]\n",
    "    , [225,16,16,2]]\n",
    "\n",
    "w=[0.25,0.25,0.25,0.25] ##weight \n",
    "Names= [ \"Phone 1\" ,\"Phone 2\",\"Phone 3\",\"Phone 4\",\"Phone 5\" ]## altenative name \n",
    "Data=pd.DataFrame( mtx, index= Names)\n",
    "Data\n"
   ]
  },
  {
   "cell_type": "code",
   "execution_count": 53,
   "metadata": {
    "scrolled": false
   },
   "outputs": [],
   "source": [
    "from skcriteria import Data, MIN, MAX"
   ]
  },
  {
   "cell_type": "code",
   "execution_count": 41,
   "metadata": {},
   "outputs": [
    {
     "data": {
      "text/html": [
       "<table>\n",
       "<thead>\n",
       "<tr><th style=\"text-align: center;\"> ALT./CRIT. </th><th style=\"text-align: center;\"> Cost (min) W.0.25 </th><th style=\"text-align: center;\"> Storage (max) W.0.25 </th><th style=\"text-align: center;\"> Camera (max) W.0.25 </th><th style=\"text-align: center;\"> Appearance (max) W.0.25 </th></tr>\n",
       "</thead>\n",
       "<tbody>\n",
       "<tr><td style=\"text-align: center;\">  Phone 1   </td><td style=\"text-align: center;\">        250        </td><td style=\"text-align: center;\">          16          </td><td style=\"text-align: center;\">         12          </td><td style=\"text-align: center;\">            5            </td></tr>\n",
       "<tr><td style=\"text-align: center;\">  Phone 2   </td><td style=\"text-align: center;\">        200        </td><td style=\"text-align: center;\">          16          </td><td style=\"text-align: center;\">          8          </td><td style=\"text-align: center;\">            3            </td></tr>\n",
       "<tr><td style=\"text-align: center;\">  Phone 3   </td><td style=\"text-align: center;\">        300        </td><td style=\"text-align: center;\">          32          </td><td style=\"text-align: center;\">         16          </td><td style=\"text-align: center;\">            4            </td></tr>\n",
       "<tr><td style=\"text-align: center;\">  Phone 4   </td><td style=\"text-align: center;\">        275        </td><td style=\"text-align: center;\">          32          </td><td style=\"text-align: center;\">          8          </td><td style=\"text-align: center;\">            4            </td></tr>\n",
       "<tr><td style=\"text-align: center;\">  Phone 5   </td><td style=\"text-align: center;\">        225        </td><td style=\"text-align: center;\">          16          </td><td style=\"text-align: center;\">         16          </td><td style=\"text-align: center;\">            2            </td></tr>\n",
       "</tbody>\n",
       "</table>"
      ],
      "text/plain": [
       " ALT./CRIT.    Cost (min) W.0.25    Storage (max) W.0.25    Camera (max) W.0.25    Appearance (max) W.0.25\n",
       "------------  -------------------  ----------------------  ---------------------  -------------------------\n",
       "  Phone 1             250                    16                     12                        5\n",
       "  Phone 2             200                    16                      8                        3\n",
       "  Phone 3             300                    32                     16                        4\n",
       "  Phone 4             275                    32                      8                        4\n",
       "  Phone 5             225                    16                     16                        2"
      ]
     },
     "execution_count": 41,
     "metadata": {},
     "output_type": "execute_result"
    }
   ],
   "source": [
    "names = [ \"Cost\", \"Storage\", \"Camera\", \"Appearance\" ]\n",
    "criteria = [ MIN, MAX, MAX, MAX]\n",
    "data = Data(mtx, criteria, weights=w, anames=Names, cnames=names )\n",
    "data"
   ]
  },
  {
   "cell_type": "code",
   "execution_count": 54,
   "metadata": {},
   "outputs": [
    {
     "data": {
      "text/html": [
       "<div id='dec-f229fc7a-3973-11eb-b473-8c85901b7ffc'><p><b>TOPSIS (mnorm=vector, wnorm=sum) - Solution:</b></p><table>\n",
       "<thead>\n",
       "<tr><th style=\"text-align: center;\"> ALT./CRIT. </th><th style=\"text-align: center;\"> Cost (min) W.0.25 </th><th style=\"text-align: center;\"> Storage (max) W.0.25 </th><th style=\"text-align: center;\"> Camera (max) W.0.25 </th><th style=\"text-align: center;\"> Appearance (max) W.0.25 </th><th style=\"text-align: center;\"> Rank </th></tr>\n",
       "</thead>\n",
       "<tbody>\n",
       "<tr><td style=\"text-align: center;\">  Phone 1   </td><td style=\"text-align: center;\">        250        </td><td style=\"text-align: center;\">          16          </td><td style=\"text-align: center;\">         12          </td><td style=\"text-align: center;\">            5            </td><td style=\"text-align: center;\">  3   </td></tr>\n",
       "<tr><td style=\"text-align: center;\">  Phone 2   </td><td style=\"text-align: center;\">        200        </td><td style=\"text-align: center;\">          16          </td><td style=\"text-align: center;\">          8          </td><td style=\"text-align: center;\">            3            </td><td style=\"text-align: center;\">  5   </td></tr>\n",
       "<tr><td style=\"text-align: center;\">  Phone 3   </td><td style=\"text-align: center;\">        300        </td><td style=\"text-align: center;\">          32          </td><td style=\"text-align: center;\">         16          </td><td style=\"text-align: center;\">            4            </td><td style=\"text-align: center;\">  1   </td></tr>\n",
       "<tr><td style=\"text-align: center;\">  Phone 4   </td><td style=\"text-align: center;\">        275        </td><td style=\"text-align: center;\">          32          </td><td style=\"text-align: center;\">          8          </td><td style=\"text-align: center;\">            4            </td><td style=\"text-align: center;\">  2   </td></tr>\n",
       "<tr><td style=\"text-align: center;\">  Phone 5   </td><td style=\"text-align: center;\">        225        </td><td style=\"text-align: center;\">          16          </td><td style=\"text-align: center;\">         16          </td><td style=\"text-align: center;\">            2            </td><td style=\"text-align: center;\">  4   </td></tr>\n",
       "</tbody>\n",
       "</table></div>"
      ],
      "text/plain": [
       "TOPSIS (mnorm=vector, wnorm=sum) - Solution:\n",
       " ALT./CRIT.    Cost (min) W.0.25    Storage (max) W.0.25    Camera (max) W.0.25    Appearance (max) W.0.25    Rank\n",
       "------------  -------------------  ----------------------  ---------------------  -------------------------  ------\n",
       "  Phone 1             250                    16                     12                        5                3\n",
       "  Phone 2             200                    16                      8                        3                5\n",
       "  Phone 3             300                    32                     16                        4                1\n",
       "  Phone 4             275                    32                      8                        4                2\n",
       "  Phone 5             225                    16                     16                        2                4"
      ]
     },
     "execution_count": 54,
     "metadata": {},
     "output_type": "execute_result"
    }
   ],
   "source": [
    "from skcriteria.madm.closeness import TOPSIS\n",
    "dm= TOPSIS (mnorm=\"vector\")\n",
    "dm.decide(data)"
   ]
  },
  {
   "cell_type": "code",
   "execution_count": null,
   "metadata": {},
   "outputs": [],
   "source": []
  }
 ],
 "metadata": {
  "kernelspec": {
   "display_name": "Python 3",
   "language": "python",
   "name": "python3"
  },
  "language_info": {
   "codemirror_mode": {
    "name": "ipython",
    "version": 3
   },
   "file_extension": ".py",
   "mimetype": "text/x-python",
   "name": "python",
   "nbconvert_exporter": "python",
   "pygments_lexer": "ipython3",
   "version": "3.8.5"
  }
 },
 "nbformat": 4,
 "nbformat_minor": 4
}
